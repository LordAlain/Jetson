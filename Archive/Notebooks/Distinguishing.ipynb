{
 "cells": [
  {
   "cell_type": "code",
   "execution_count": 1,
   "id": "1d9afb4a",
   "metadata": {},
   "outputs": [],
   "source": [
    "import numpy as np\n",
    "import tensorflow as tf\n",
    "import zipfile\n",
    "from imageio import imread\n",
    "# from skimage.io import imread\n",
    "from skimage.transform import resize\n",
    "import pprint\n",
    "\n",
    "\n",
    "import matplotlib.pyplot as plt\n",
    "%matplotlib inline\n",
    "\n",
    "import warnings\n",
    "warnings.filterwarnings(\"ignore\")"
   ]
  },
  {
   "cell_type": "code",
   "execution_count": 9,
   "id": "2b00af0e",
   "metadata": {},
   "outputs": [],
   "source": [
    "from tensorflow.keras.models import Sequential\n",
    "from tensorflow.keras.optimizers import Adam\n",
    "from tensorflow.keras.preprocessing.image import ImageDataGenerator\n",
    "from tensorflow.keras.utils import to_categorical\n",
    "from tensorflow.keras.layers import Conv2D, MaxPool2D\n",
    "from tensorflow.keras.layers import (Flatten, Dense, Dropout)"
   ]
  },
  {
   "cell_type": "code",
   "execution_count": 3,
   "id": "aa55f8d6",
   "metadata": {},
   "outputs": [],
   "source": [
    "import urllib.request\n",
    "import os.path\n",
    "if not os.path.exists(\"GTSRB_Final_Training_Images.zip\"):\n",
    "    # Get file from URL\n",
    "    url = \"\"\n",
    "    filename = \"./GTSRB_Final_Training_Images.zip\"\n",
    "    urllib.request.urlretrieve(url, filename)\n",
    "    \n",
    "    "
   ]
  },
  {
   "cell_type": "code",
   "execution_count": 4,
   "id": "49f9ebf8",
   "metadata": {},
   "outputs": [],
   "source": [
    "IMG_SIZE = 32\n",
    "TEST_SIZE = 0.2\n",
    "\n",
    "X, Xt, y, yt = list(), list(), list(), list()\n",
    "\n",
    "archive = zipfile.ZipFile('./GTSRB_Final_Training_Images.zip', 'r')\n",
    "\n",
    "file_paths = [file for file in archive.namelist() \n",
    "              if '.ppm' in file]\n",
    "\n",
    "for filename in file_paths:\n",
    "    with archive.open(filename) as img_file:\n",
    "\n",
    "        img = imread(img_file.read())\n",
    "        img = resize(img,\n",
    "                     output_shape=(IMG_SIZE, IMG_SIZE),\n",
    "                     mode='reflect',\n",
    "                     anti_aliasing=True\n",
    "                    )\n",
    "        img_class = int(filename.split('/')[-2])\n",
    "        \n",
    "\n",
    "#     img = imread(archive.open(filename))\n",
    "#     img = resize(img,\n",
    "#                  output_shape=(IMG_SIZE, IMG_SIZE),\n",
    "#                  mode='reflect',\n",
    "#                  anti_aliasing=True\n",
    "#                 )\n",
    "#     img_class = int(filename.split('/')[-2])\n",
    "\n",
    "    if (hash(filename) % 1000) / 1000 > TEST_SIZE:\n",
    "        X.append(img)\n",
    "        y.append(img_class)\n",
    "    else:\n",
    "        Xt.append(img)\n",
    "        yt.append(img_class)\n",
    "archive.close()"
   ]
  },
  {
   "cell_type": "code",
   "execution_count": 8,
   "id": "b2d653e9",
   "metadata": {},
   "outputs": [
    {
     "name": "stdout",
     "output_type": "stream",
     "text": [
      "No classes:43\n"
     ]
    },
    {
     "data": {
      "image/png": "[encoded data removed]",
      "text/plain": [
       "<Figure size 432x288 with 1 Axes>"
      ]
     },
     "metadata": {
      "needs_background": "light"
     },
     "output_type": "display_data"
    }
   ],
   "source": [
    "test_ratio = len(Xt) / len(file_paths)\n",
    "# print(\"Train size: {} test size: {} ({:0.3f})\").format(\n",
    "#     len(X), \n",
    "#     len(Xt),\n",
    "#     test_ratio)\n",
    "\n",
    "classes, dist = np.unique(y+yt, return_counts = True)\n",
    "NUM_CLASSES = len(classes)\n",
    "print(\"No classes:{}\".format(NUM_CLASSES))\n",
    "\n",
    "plt.bar(classes, dist, align = 'center', alpha = 0.5)\n",
    "plt.show()\n",
    "\n"
   ]
  },
  {
   "cell_type": "code",
   "execution_count": null,
   "id": "4b76a408",
   "metadata": {},
   "outputs": [],
   "source": [
    "# ########################################################\n",
    "# # Neural network architecture\n",
    "# ########################################################\n",
    "# def neural_network():\n",
    "# \t\"\"\"\n",
    "# \tDefine neural network architecture\n",
    "# \tReturn relevant tensor references\n",
    "# \t\"\"\"\n",
    "# \twith tf.variable_scope('neural_network'):\n",
    "# \t\t# Tensors representing input images and labels\n",
    "# \t\tx = tf.placeholder('float', [None, IMG_SIZE, IMG_SIZE, NUM_CHANNELS])\n",
    "# \t\ty = tf.placeholder('float', [None, NUM_CLASSES])\n",
    "\n",
    "# \t\t# Placeholder for dropout keep probability\n",
    "# \t\tkeep_prob = tf.placeholder(tf.float32)\n",
    "\n",
    "# \t\t# Neural network architecture: Convolutional Neural Network (CNN)\n",
    "# \t\t# Using TensorFlow-Slim to build the network:\n",
    "# \t\t# https://github.com/tensorflow/tensorflow/tree/master/tensorflow/contrib/slim\n",
    "\n",
    "# \t\t# Use batch normalization for all convolution layers\n",
    "# \t\twith slim.arg_scope([slim.conv2d], normalizer_fn=slim.batch_norm):\n",
    "# \t\t\t# Given x shape is (32, 32, 3)\n",
    "# \t\t\t# Conv and pool layers\n",
    "# \t\t\tnet = Conv2D(x, 16, [3, 3], scope='conv0')  # output shape: (32, 32, 16)\n",
    "# \t\t\tnet = MaxPool2D(net, [3, 3], 1, padding='SAME', scope='pool0')  # output shape: (32, 32, 16)\n",
    "# \t\t\tnet = Conv2D(net, 64, [5, 5], 3, padding='VALID', scope='conv1')  # output shape: (10, 10, 64)\n",
    "# \t\t\tnet = MaxPool2D(net, [3, 3], 1, scope='pool1')  # output shape: (8, 8, 64)\n",
    "# \t\t\tnet = Conv2D(net, 128, [3, 3], scope='conv2')  # output shape: (8, 8, 128)\n",
    "# \t\t\tnet = Conv2D(net, 64, [3, 3], scope='conv3')  # output shape: (8, 8, 64)\n",
    "# \t\t\tnet = MaxPool2D(net, [3, 3], 1, scope='pool3')  # output shape: (6, 6, 64)\n",
    "\n",
    "# \t\t\t# Final fully-connected layers\n",
    "# \t\t\tnet = Flatten(net)\n",
    "# \t\t\tnet = Dense(net, 1024, scope='fc4')\n",
    "# \t\t\tnet = Dropout(net, keep_prob)\n",
    "\n",
    "# \t\t\tnet = Dense(net, 1024, scope='fc5')\n",
    "# \t\t\tnet = Dropout(net, keep_prob)\n",
    "# \t\t\tnet = Dense(net, NUM_CLASSES, scope='fc6')\n",
    "# \t\t# Final output (logits)\n",
    "# \t\tlogits = net\n",
    "\n",
    "# \t\t# Loss (data loss and regularization loss) and optimizer\n",
    "# \t\tloss = tf.reduce_mean(tf.nn.softmax_cross_entropy_with_logits(logits, y))\n",
    "# \t\toptimizer = OPT.minimize(loss)\n",
    "\n",
    "# \t\t# Prediction (used during inference)\n",
    "# \t\tpredictions = tf.argmax(logits, 1)\n",
    "\n",
    "# \t\t# Accuracy metric calculation\n",
    "# \t\tcorrect_predictions = tf.equal(predictions, tf.argmax(y, 1))\n",
    "# \t\taccuracy = tf.reduce_mean(tf.cast(correct_predictions, tf.float32))\n",
    "\n",
    "# \t# Return relevant tensor references\n",
    "# \treturn x, y, keep_prob, logits, optimizer, predictions, accuracy\n",
    "\n",
    "\n",
    "\n",
    "\n",
    "# # Use batch normalization for all convolution layers\n",
    "# with slim.arg_scope([slim.conv2d], normalizer_fn=slim.batch_norm):\n",
    "#     # Given x shape is (32, 32, 3)\n",
    "#     # Conv and pool layers\n",
    "#     net = slim.conv2d(x, 16, [3, 3], scope='conv0')  # output shape: (32, 32, 16)\n",
    "#     net = slim.max_pool2d(net, [3, 3], 1, padding='SAME', scope='pool0')  # output shape: (32, 32, 16)\n",
    "#     net = slim.conv2d(net, 64, [5, 5], 3, padding='VALID', scope='conv1')  # output shape: (10, 10, 64)\n",
    "#     net = slim.max_pool2d(net, [3, 3], 1, scope='pool1')  # output shape: (8, 8, 64)\n",
    "#     net = slim.conv2d(net, 128, [3, 3], scope='conv2')  # output shape: (8, 8, 128)\n",
    "#     net = slim.conv2d(net, 64, [3, 3], scope='conv3')  # output shape: (8, 8, 64)\n",
    "#     net = slim.max_pool2d(net, [3, 3], 1, scope='pool3')  # output shape: (6, 6, 64)\n",
    "\n",
    "#     # Final fully-connected layers\n",
    "#     net = tf.contrib.layers.flatten(net)\n",
    "#     net = slim.fully_connected(net, 1024, scope='fc4')\n",
    "#     net = tf.nn.dropout(net, keep_prob)\n",
    "#     net = slim.fully_connected(net, 1024, scope='fc5')\n",
    "#     net = tf.nn.dropout(net, keep_prob)\n",
    "#     net = slim.fully_connected(net, NUM_CLASSES, scope='fc6')\n",
    "# # model.add(Dense(NUM_CLASSES, activation ='softmax'))\n",
    "# return model\n",
    "\n",
    "# model = small_cnn()\n",
    "# model.compile(loss = 'categorical_crossentropu',\n",
    "#              optimizer = Adam(),\n",
    "#              metrics = ['accuracy'])"
   ]
  },
  {
   "cell_type": "code",
   "execution_count": null,
   "id": "75d27bc3",
   "metadata": {},
   "outputs": [],
   "source": [
    "# history = model.fit_generator(train_gen,\n",
    "#                              steps_per_epoch = len(X), // batch_size\n",
    "#                              validation_data = val_gen,\n",
    "#                              validation_steps = len(Xt), // batch_size"
   ]
  }
 ],
 "metadata": {
  "kernelspec": {
   "display_name": "Python 3",
   "language": "python",
   "name": "python3"
  },
  "language_info": {
   "codemirror_mode": {
    "name": "ipython",
    "version": 3
   },
   "file_extension": ".py",
   "mimetype": "text/x-python",
   "name": "python",
   "nbconvert_exporter": "python",
   "pygments_lexer": "ipython3",
   "version": "3.8.8"
  }
 },
 "nbformat": 4,
 "nbformat_minor": 5
}
