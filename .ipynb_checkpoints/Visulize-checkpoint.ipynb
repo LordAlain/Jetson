{
 "cells": [
  {
   "cell_type": "code",
   "execution_count": 1,
   "metadata": {},
   "outputs": [
    {
     "name": "stderr",
     "output_type": "stream",
     "text": [
      "/usr/local/lib/python3.5/dist-packages/h5py/__init__.py:36: FutureWarning: Conversion of the second argument of issubdtype from `float` to `np.floating` is deprecated. In future, it will be treated as `np.float64 == np.dtype(float).type`.\n",
      "  from ._conv import register_converters as _register_converters\n",
      "/usr/local/lib/python3.5/dist-packages/sklearn/cross_validation.py:41: DeprecationWarning: This module was deprecated in version 0.18 in favor of the model_selection module into which all the refactored classes and functions are moved. Also note that the interface of the new CV iterators are different from that of this module. This module will be removed in 0.20.\n",
      "  \"This module will be removed in 0.20.\", DeprecationWarning)\n"
     ]
    }
   ],
   "source": [
    "from __future__ import absolute_import\n",
    "from __future__ import division\n",
    "from __future__ import print_function\n",
    "\n",
    "# Imports\n",
    "import tensorflow as tf\n",
    "import tensorflow.contrib.slim as slim  # TensorFlow-Slim\n",
    "import matplotlib.pyplot as plt\n",
    "import matplotlib.image as mpimg\n",
    "from PIL import Image\n",
    "from sklearn.cross_validation import train_test_split\n",
    "import numpy as np\n",
    "import cv2\n",
    "import math\n",
    "import os\n",
    "import time\n",
    "import pickle\n",
    "\n",
    "from utils import next_batch, calculate_accuracy\n",
    "from model import Model\n",
    "NUM_CLASSES = 43\n",
    "\n",
    "def preprocess_data(X, y):\n",
    "    # Make all image array values fall within the range -1 to 1\n",
    "    # Note all values in original images are between 0 and 255, as uint8\n",
    "    X = X.astype('float32')\n",
    "#     X = (X - 128.) #/ 128.\n",
    "\n",
    "    # Convert the labels from numerical labels to one-hot encoded labels\n",
    "    y_onehot = np.zeros((y.shape[0], NUM_CLASSES))\n",
    "    for i, onehot_label in enumerate(y_onehot):\n",
    "        onehot_label[y[i]] = 1.\n",
    "    y = y_onehot\n",
    "\n",
    "    return X, y\n",
    "\n",
    "model = Model()\n",
    "\n",
    "x, y, logits, predictions, accuracy = model.x, model.y, model.logits, model.predictions, model.accuracy\n",
    "keep_prob = model.keep_prob\n",
    "loss = model.loss\n",
    "\n",
    "grad = tf.sign(tf.gradients(loss, x))[0]\n",
    "\n",
    "label_map = {}\n",
    "with open('signnames.csv', 'r') as f:\n",
    "    first_line = True\n",
    "    for line in f:\n",
    "        # Ignore first line\n",
    "        if first_line:\n",
    "            first_line = False\n",
    "            continue\n",
    "\n",
    "        # Populate label_map\n",
    "        label_int, label_string = line.split(',')\n",
    "        label_int = int(label_int)\n",
    "\n",
    "        label_map[label_int] = label_string\n",
    "\n",
    "with open('test.p', mode='rb') as f:\n",
    "    test = pickle.load(f)\n",
    "X_test, y_test = test['features'], test['labels']\n",
    "X_test, y_test = preprocess_data(X_test, y_test)"
   ]
  },
  {
   "cell_type": "code",
   "execution_count": 6,
   "metadata": {},
   "outputs": [],
   "source": [
    "grad = tf.sign(tf.gradients(model.reg_loss, x))[0]\n",
    "import copy\n",
    "# grad = tf.sign(tf.gradients(loss, x))[0]\n",
    "def attack(sess, images, labels, i):\n",
    "\n",
    "    eps = 10\n",
    "    step = i\n",
    "    x = copy.copy(images)\n",
    "    \n",
    "    for i in range(1):\n",
    "        gradients = sess.run(grad, feed_dict={model.x: x, model.y: labels, model.keep_prob: 1.})\n",
    "        x = x - i*gradients\n",
    "        x = np.clip(x, images - eps, images + eps)\n",
    "        x = np.clip(x, 0., 255.)\n",
    "\n",
    "    return x"
   ]
  },
  {
   "cell_type": "code",
   "execution_count": 7,
   "metadata": {
    "scrolled": false
   },
   "outputs": [
    {
     "name": "stdout",
     "output_type": "stream",
     "text": [
      "Latest training checkpoint is  ./natural_model/checkpoint-50400\n",
      "INFO:tensorflow:Restoring parameters from ./natural_model/checkpoint-50400\n",
      "0 Accuracy is 0.96 Adv Accuracy is 0.96\n",
      "1 Accuracy is 0.96 Adv Accuracy is 0.96\n",
      "2 Accuracy is 0.96 Adv Accuracy is 0.96\n",
      "3 Accuracy is 0.96 Adv Accuracy is 0.96\n",
      "4 Accuracy is 0.96 Adv Accuracy is 0.96\n",
      "5 Accuracy is 0.96 Adv Accuracy is 0.96\n",
      "6 Accuracy is 0.96 Adv Accuracy is 0.96\n",
      "7 Accuracy is 0.96 Adv Accuracy is 0.96\n",
      "8 Accuracy is 0.96 Adv Accuracy is 0.96\n",
      "9 Accuracy is 0.96 Adv Accuracy is 0.96\n"
     ]
    }
   ],
   "source": [
    "with tf.Session() as sess:\n",
    "\n",
    "    saver = tf.train.Saver()\n",
    "    filename = tf.train.latest_checkpoint(\"./natural_model/\")\n",
    "#     filename = tf.train.latest_checkpoint(\"./robust_model_100/\")\n",
    "    print(\"Latest training checkpoint is \", filename)\n",
    "    if filename != None:\n",
    "        saver.restore(sess, filename)\n",
    "    else:\n",
    "        print(\"No checkpoint found, exit.\")\n",
    "        exit()\n",
    "\n",
    "    test_gen = next_batch(X_test, y_test, 1000, True)\n",
    "    images, labels = next(test_gen)\n",
    "    acc = sess.run(model.accuracy, feed_dict={x: images, y: labels, keep_prob: 1})\n",
    "    \n",
    "    for i in range(10):\n",
    "            \n",
    "        adv_images = attack(sess, images, labels, i)\n",
    "        \n",
    "        adv_acc = sess.run(model.accuracy, feed_dict={x: adv_images, y: labels, keep_prob: 1})\n",
    "        \n",
    "        print(i, \"Accuracy is\", acc, \"Adv Accuracy is\", adv_acc)"
   ]
  },
  {
   "cell_type": "code",
   "execution_count": 43,
   "metadata": {
    "scrolled": true
   },
   "outputs": [
    {
     "name": "stdout",
     "output_type": "stream",
     "text": [
      "Latest training checkpoint is  ./natural_model/checkpoint-50400\n",
      "INFO:tensorflow:Restoring parameters from ./natural_model/checkpoint-50400\n",
      "Rain Drops 00  vs. Accuracy vs Adv_Accuracy： 0.96 0.96\n",
      "Rain Drops 01  vs. Accuracy vs Adv_Accuracy： 0.96 0.835\n",
      "Rain Drops 02  vs. Accuracy vs Adv_Accuracy： 0.96 0.79\n",
      "Rain Drops 03  vs. Accuracy vs Adv_Accuracy： 0.96 0.738\n",
      "Rain Drops 04  vs. Accuracy vs Adv_Accuracy： 0.96 0.715\n",
      "Rain Drops 05  vs. Accuracy vs Adv_Accuracy： 0.96 0.697\n",
      "Rain Drops 06  vs. Accuracy vs Adv_Accuracy： 0.96 0.684\n",
      "Rain Drops 07  vs. Accuracy vs Adv_Accuracy： 0.96 0.692\n",
      "Rain Drops 08  vs. Accuracy vs Adv_Accuracy： 0.96 0.648\n",
      "Rain Drops 09  vs. Accuracy vs Adv_Accuracy： 0.96 0.642\n",
      "Rain Drops 10  vs. Accuracy vs Adv_Accuracy： 0.96 0.586\n",
      "Rain Drops 11  vs. Accuracy vs Adv_Accuracy： 0.96 0.557\n",
      "Rain Drops 12  vs. Accuracy vs Adv_Accuracy： 0.96 0.557\n",
      "Rain Drops 13  vs. Accuracy vs Adv_Accuracy： 0.96 0.552\n",
      "Rain Drops 14  vs. Accuracy vs Adv_Accuracy： 0.96 0.527\n",
      "Rain Drops 15  vs. Accuracy vs Adv_Accuracy： 0.96 0.503\n",
      "Rain Drops 16  vs. Accuracy vs Adv_Accuracy： 0.96 0.484\n",
      "Rain Drops 17  vs. Accuracy vs Adv_Accuracy： 0.96 0.482\n",
      "Rain Drops 18  vs. Accuracy vs Adv_Accuracy： 0.96 0.467\n",
      "Rain Drops 19  vs. Accuracy vs Adv_Accuracy： 0.96 0.466\n",
      "Fog density 00  vs. Accuracy vs Adv_Accuracy： 0.96 0.96\n",
      "Fog density 01  vs. Accuracy vs Adv_Accuracy： 0.96 0.958\n",
      "Fog density 02  vs. Accuracy vs Adv_Accuracy： 0.96 0.957\n",
      "Fog density 03  vs. Accuracy vs Adv_Accuracy： 0.96 0.957\n",
      "Fog density 04  vs. Accuracy vs Adv_Accuracy： 0.96 0.955\n",
      "Fog density 05  vs. Accuracy vs Adv_Accuracy： 0.96 0.952\n",
      "Fog density 06  vs. Accuracy vs Adv_Accuracy： 0.96 0.949\n",
      "Fog density 07  vs. Accuracy vs Adv_Accuracy： 0.96 0.945\n",
      "Fog density 08  vs. Accuracy vs Adv_Accuracy： 0.96 0.942\n",
      "Fog density 09  vs. Accuracy vs Adv_Accuracy： 0.96 0.935\n",
      "Fog density 10  vs. Accuracy vs Adv_Accuracy： 0.96 0.929\n",
      "Fog density 11  vs. Accuracy vs Adv_Accuracy： 0.96 0.918\n",
      "Fog density 12  vs. Accuracy vs Adv_Accuracy： 0.96 0.901\n",
      "Fog density 13  vs. Accuracy vs Adv_Accuracy： 0.96 0.885\n",
      "Fog density 14  vs. Accuracy vs Adv_Accuracy： 0.96 0.861\n",
      "Fog density 15  vs. Accuracy vs Adv_Accuracy： 0.96 0.826\n",
      "Fog density 16  vs. Accuracy vs Adv_Accuracy： 0.96 0.782\n",
      "Fog density 17  vs. Accuracy vs Adv_Accuracy： 0.96 0.734\n",
      "Fog density 18  vs. Accuracy vs Adv_Accuracy： 0.96 0.669\n",
      "Fog density 19  vs. Accuracy vs Adv_Accuracy： 0.96 0.575\n",
      "Light intensity 00  vs. Accuracy vs Adv_Accuracy： 0.96 0.96\n",
      "Light intensity 01  vs. Accuracy vs Adv_Accuracy： 0.96 0.955\n",
      "Light intensity 02  vs. Accuracy vs Adv_Accuracy： 0.96 0.951\n",
      "Light intensity 03  vs. Accuracy vs Adv_Accuracy： 0.96 0.942\n",
      "Light intensity 04  vs. Accuracy vs Adv_Accuracy： 0.96 0.936\n",
      "Light intensity 05  vs. Accuracy vs Adv_Accuracy： 0.96 0.927\n",
      "Light intensity 06  vs. Accuracy vs Adv_Accuracy： 0.96 0.914\n",
      "Light intensity 07  vs. Accuracy vs Adv_Accuracy： 0.96 0.905\n",
      "Light intensity 08  vs. Accuracy vs Adv_Accuracy： 0.96 0.897\n",
      "Light intensity 09  vs. Accuracy vs Adv_Accuracy： 0.96 0.879\n",
      "Light intensity 10  vs. Accuracy vs Adv_Accuracy： 0.96 0.861\n",
      "Light intensity 11  vs. Accuracy vs Adv_Accuracy： 0.96 0.842\n",
      "Light intensity 12  vs. Accuracy vs Adv_Accuracy： 0.96 0.824\n",
      "Light intensity 13  vs. Accuracy vs Adv_Accuracy： 0.96 0.789\n",
      "Light intensity 14  vs. Accuracy vs Adv_Accuracy： 0.96 0.743\n",
      "Light intensity 15  vs. Accuracy vs Adv_Accuracy： 0.96 0.7\n",
      "Light intensity 16  vs. Accuracy vs Adv_Accuracy： 0.96 0.643\n",
      "Light intensity 17  vs. Accuracy vs Adv_Accuracy： 0.96 0.574\n",
      "Light intensity 18  vs. Accuracy vs Adv_Accuracy： 0.96 0.51\n",
      "Light intensity 19  vs. Accuracy vs Adv_Accuracy： 0.96 0.445\n",
      "Darkness 00  vs. Accuracy vs Adv_Accuracy： 0.96 0.96\n",
      "Darkness 01  vs. Accuracy vs Adv_Accuracy： 0.96 0.96\n",
      "Darkness 02  vs. Accuracy vs Adv_Accuracy： 0.96 0.943\n",
      "Darkness 03  vs. Accuracy vs Adv_Accuracy： 0.96 0.889\n",
      "Darkness 04  vs. Accuracy vs Adv_Accuracy： 0.96 0.822\n",
      "Darkness 05  vs. Accuracy vs Adv_Accuracy： 0.96 0.754\n",
      "Darkness 06  vs. Accuracy vs Adv_Accuracy： 0.96 0.708\n",
      "Darkness 07  vs. Accuracy vs Adv_Accuracy： 0.96 0.645\n",
      "Darkness 08  vs. Accuracy vs Adv_Accuracy： 0.96 0.609\n",
      "Darkness 09  vs. Accuracy vs Adv_Accuracy： 0.96 0.553\n",
      "Darkness 10  vs. Accuracy vs Adv_Accuracy： 0.96 0.51\n",
      "Darkness 11  vs. Accuracy vs Adv_Accuracy： 0.96 0.435\n",
      "Darkness 12  vs. Accuracy vs Adv_Accuracy： 0.96 0.386\n",
      "Darkness 13  vs. Accuracy vs Adv_Accuracy： 0.96 0.341\n",
      "Darkness 14  vs. Accuracy vs Adv_Accuracy： 0.96 0.301\n",
      "Darkness 15  vs. Accuracy vs Adv_Accuracy： 0.96 0.271\n",
      "Darkness 16  vs. Accuracy vs Adv_Accuracy： 0.96 0.24\n",
      "Darkness 17  vs. Accuracy vs Adv_Accuracy： 0.96 0.217\n",
      "Darkness 18  vs. Accuracy vs Adv_Accuracy： 0.96 0.187\n",
      "Darkness 19  vs. Accuracy vs Adv_Accuracy： 0.96 0.173\n",
      "Blur deviation 00  vs. Accuracy vs Adv_Accuracy： 0.96 0.959\n",
      "Blur deviation 01  vs. Accuracy vs Adv_Accuracy： 0.96 0.945\n",
      "Blur deviation 02  vs. Accuracy vs Adv_Accuracy： 0.96 0.925\n",
      "Blur deviation 03  vs. Accuracy vs Adv_Accuracy： 0.96 0.894\n",
      "Blur deviation 04  vs. Accuracy vs Adv_Accuracy： 0.96 0.876\n",
      "Blur deviation 05  vs. Accuracy vs Adv_Accuracy： 0.96 0.841\n",
      "Blur deviation 06  vs. Accuracy vs Adv_Accuracy： 0.96 0.795\n",
      "Blur deviation 07  vs. Accuracy vs Adv_Accuracy： 0.96 0.758\n",
      "Blur deviation 08  vs. Accuracy vs Adv_Accuracy： 0.96 0.715\n",
      "Blur deviation 09  vs. Accuracy vs Adv_Accuracy： 0.96 0.645\n",
      "Blur deviation 10  vs. Accuracy vs Adv_Accuracy： 0.96 0.587\n",
      "Blur deviation 11  vs. Accuracy vs Adv_Accuracy： 0.96 0.542\n",
      "Blur deviation 12  vs. Accuracy vs Adv_Accuracy： 0.96 0.474\n",
      "Blur deviation 13  vs. Accuracy vs Adv_Accuracy： 0.96 0.413\n",
      "Blur deviation 14  vs. Accuracy vs Adv_Accuracy： 0.96 0.371\n",
      "Blur deviation 15  vs. Accuracy vs Adv_Accuracy： 0.96 0.327\n",
      "Blur deviation 16  vs. Accuracy vs Adv_Accuracy： 0.96 0.293\n",
      "Blur deviation 17  vs. Accuracy vs Adv_Accuracy： 0.96 0.254\n",
      "Blur deviation 18  vs. Accuracy vs Adv_Accuracy： 0.96 0.231\n",
      "Blur deviation 19  vs. Accuracy vs Adv_Accuracy： 0.96 0.215\n"
     ]
    }
   ],
   "source": [
    "with tf.Session() as sess:\n",
    "\n",
    "    saver = tf.train.Saver()\n",
    "#     filename = tf.train.latest_checkpoint(\"./robust_model_100/\")\n",
    "    filename = tf.train.latest_checkpoint(\"./natural_model/\")\n",
    "    print(\"Latest training checkpoint is \", filename)\n",
    "    if filename != None:\n",
    "        saver.restore(sess, filename)\n",
    "    else:\n",
    "        print(\"No checkpoint found, exit.\")\n",
    "        exit()\n",
    "\n",
    "    test_gen = next_batch(X_test, y_test, 1000, True)\n",
    "    images, labels = next(test_gen)\n",
    "    acc = sess.run(model.accuracy, feed_dict={x: images, y: labels, keep_prob: 1})\n",
    "    for i in range(20):\n",
    "        rain_images = rain(images, i)\n",
    "        adv_acc = sess.run(model.accuracy, feed_dict={x: rain_images, y: labels, keep_prob: 1})\n",
    "        print(\"Rain Drops %.2d  vs. Accuracy vs Adv_Accuracy：\" % i, acc, adv_acc)\n",
    "#     for i in range(20):\n",
    "#         rain_images = fog(images, i)\n",
    "#         adv_acc = sess.run(model.accuracy, feed_dict={x: rain_images, y: labels, keep_prob: 1})\n",
    "#         print(\"Fog density %.2d  vs. Accuracy vs Adv_Accuracy：\" % i, acc, adv_acc)\n",
    "#     for i in range(20):\n",
    "#         rain_images = light(images, i)\n",
    "#         adv_acc = sess.run(model.accuracy, feed_dict={x: rain_images, y: labels, keep_prob: 1})\n",
    "#         print(\"Light intensity %.2d  vs. Accuracy vs Adv_Accuracy：\" % i, acc, adv_acc)\n",
    "#     for i in range(20):\n",
    "#         rain_images = dark(images, i)\n",
    "#         adv_acc = sess.run(model.accuracy, feed_dict={x: rain_images, y: labels, keep_prob: 1})\n",
    "#         print(\"Darkness %.2d  vs. Accuracy vs Adv_Accuracy：\" % i, acc, adv_acc)\n",
    "#     for i in range(20):\n",
    "#         rain_images = blur(images, i)\n",
    "#         adv_acc = sess.run(model.accuracy, feed_dict={x: rain_images, y: labels, keep_prob: 1})\n",
    "#         print(\"Blur deviation %.2d  vs. Accuracy vs Adv_Accuracy：\" % i, acc, adv_acc)\n",
    "\n",
    "#         grad_loss = sess.run(model.grad_loss, feed_dict={x: images, y: labels, keep_prob: 1})\n",
    "#         print(grad_loss)\n",
    "\n",
    "#         idx = sess.run(model.predictions, feed_dict={x: images, y: labels, keep_prob: 1})\n",
    "\n",
    "#         adv_idx = sess.run(model.predictions, feed_dict={x: adv_images, y: labels, keep_prob: 1})\n",
    "#         print(\"Original Label is:\", label_map[np.argmax(labels[0])])\n",
    "\n",
    "#         plt.subplot(1,2,1)\n",
    "#         plt.imshow(images.reshape((32, 32, 3)))\n",
    "#         plt.title(label_map[idx[0]])\n",
    "#         plt.subplot(1,2,2)\n",
    "#         plt.imshow(images.reshape((32, 32, 3)))\n",
    "#         plt.title(label_map[adv_idx[0]])\n",
    "#         plt.show()\n",
    "#         print(label_map[idx[0]], label_map[adv_idx[0]])"
   ]
  },
  {
   "cell_type": "code",
   "execution_count": 3,
   "metadata": {},
   "outputs": [],
   "source": [
    "def rain(images, eps):\n",
    "    x = copy.copy(images)\n",
    "    batch_size = images.shape[0]\n",
    "    for i in range(batch_size):\n",
    "#         if np.mean(x[i]) > 100 and i < 1:\n",
    "#             x[i] = x[i] / (1+eps*0.15)\n",
    "        for j in range(eps*40):\n",
    "            np.random.seed(j)\n",
    "            x_idx = np.random.randint(0, 32)\n",
    "            y_idx = np.random.randint(0, 32)\n",
    "            x[i, x_idx:x_idx+2, y_idx, :] = 0.8*x[i, x_idx:x_idx+2, y_idx, :] + 0.2*255\n",
    "    x = np.clip(x, 0., 255.)\n",
    "    return x\n",
    "    "
   ]
  },
  {
   "cell_type": "code",
   "execution_count": 4,
   "metadata": {},
   "outputs": [],
   "source": [
    "def fog(images, eps):\n",
    "    x = copy.copy(images)\n",
    "    batch_size = images.shape[0]\n",
    "#     x = x / (eps*0.3+1) + eps * 10\n",
    "    x = x *(1-eps*0.04) + eps * 7\n",
    "#     for i in range(batch_size):\n",
    "#         image = x[i].reshape(32, 32, 3)\n",
    "#         temp = gaussian_filter(image, sigma=0.7)\n",
    "#         x[i] = temp\n",
    "    x = np.clip(x, 0., 255.)\n",
    "    return x"
   ]
  },
  {
   "cell_type": "code",
   "execution_count": 5,
   "metadata": {},
   "outputs": [],
   "source": [
    "def dark(images, eps):\n",
    "    x = copy.copy(images)\n",
    "    x = x - eps*10.\n",
    "    x = np.clip(x, 0., 255.)\n",
    "    return x\n",
    "\n",
    "def light(images, eps):\n",
    "    x = copy.copy(images)\n",
    "    x = x + eps*10.\n",
    "    x = np.clip(x, 0., 255.)\n",
    "    return x"
   ]
  },
  {
   "cell_type": "code",
   "execution_count": 6,
   "metadata": {},
   "outputs": [],
   "source": [
    "from scipy.ndimage.filters import gaussian_filter\n",
    "\n",
    "def blur(images, eps):\n",
    "    batch_size = images.shape[0]\n",
    "    x = np.zeros(images.shape)\n",
    "    for i in range(batch_size):\n",
    "        image = images[i].reshape(32, 32, 3)\n",
    "        temp = gaussian_filter(image, sigma=0.5+eps*0.1)\n",
    "        x[i] = temp\n",
    "    x = np.clip(x, 0., 255.)\n",
    "    return x"
   ]
  },
  {
   "cell_type": "code",
   "execution_count": 8,
   "metadata": {},
   "outputs": [],
   "source": [
    "import copy\n",
    "def ocul(images, eps):\n",
    "    batch_size = images.shape[0]\n",
    "    x = copy.copy(images)\n",
    "    for i in range(batch_size):\n",
    "        image = images[i].reshape(32, 32, 3)\n",
    "        idx = np.random.randint(0, 32-eps)\n",
    "        x[i, idx:idx+eps, idx:idx+eps, :] = 0.\n",
    "#         x[i] = image\n",
    "    return x"
   ]
  },
  {
   "cell_type": "code",
   "execution_count": 44,
   "metadata": {
    "scrolled": true
   },
   "outputs": [
    {
     "name": "stdout",
     "output_type": "stream",
     "text": [
      "Latest training checkpoint is  ./robust_model_100/checkpoint-153720\n",
      "INFO:tensorflow:Restoring parameters from ./robust_model_100/checkpoint-153720\n",
      "Rain Drops 00  vs. Accuracy vs Adv_Accuracy： 0.9444 0.9444\n",
      "Rain Drops 01  vs. Accuracy vs Adv_Accuracy： 0.9444 0.8524\n",
      "Rain Drops 02  vs. Accuracy vs Adv_Accuracy： 0.9444 0.815\n",
      "Rain Drops 03  vs. Accuracy vs Adv_Accuracy： 0.9444 0.8054\n",
      "Rain Drops 04  vs. Accuracy vs Adv_Accuracy： 0.9444 0.7868\n",
      "Rain Drops 05  vs. Accuracy vs Adv_Accuracy： 0.9444 0.7616\n",
      "Rain Drops 06  vs. Accuracy vs Adv_Accuracy： 0.9444 0.7428\n",
      "Rain Drops 07  vs. Accuracy vs Adv_Accuracy： 0.9444 0.7226\n",
      "Rain Drops 08  vs. Accuracy vs Adv_Accuracy： 0.9444 0.7208\n",
      "Rain Drops 09  vs. Accuracy vs Adv_Accuracy： 0.9444 0.6952\n",
      "Rain Drops 10  vs. Accuracy vs Adv_Accuracy： 0.9444 0.6838\n",
      "Rain Drops 11  vs. Accuracy vs Adv_Accuracy： 0.9444 0.6616\n",
      "Rain Drops 12  vs. Accuracy vs Adv_Accuracy： 0.9444 0.666\n",
      "Rain Drops 13  vs. Accuracy vs Adv_Accuracy： 0.9444 0.661\n",
      "Rain Drops 14  vs. Accuracy vs Adv_Accuracy： 0.9444 0.644\n",
      "Rain Drops 15  vs. Accuracy vs Adv_Accuracy： 0.9444 0.625\n",
      "Rain Drops 16  vs. Accuracy vs Adv_Accuracy： 0.9444 0.63\n",
      "Rain Drops 17  vs. Accuracy vs Adv_Accuracy： 0.9444 0.6224\n",
      "Rain Drops 18  vs. Accuracy vs Adv_Accuracy： 0.9444 0.631\n",
      "Rain Drops 19  vs. Accuracy vs Adv_Accuracy： 0.9444 0.6216\n",
      "Fog density 00  vs. Accuracy vs Adv_Accuracy： 0.9444 0.9444\n",
      "Fog density 01  vs. Accuracy vs Adv_Accuracy： 0.9444 0.9438\n",
      "Fog density 02  vs. Accuracy vs Adv_Accuracy： 0.9444 0.9446\n",
      "Fog density 03  vs. Accuracy vs Adv_Accuracy： 0.9444 0.943\n",
      "Fog density 04  vs. Accuracy vs Adv_Accuracy： 0.9444 0.9416\n",
      "Fog density 05  vs. Accuracy vs Adv_Accuracy： 0.9444 0.9406\n",
      "Fog density 06  vs. Accuracy vs Adv_Accuracy： 0.9444 0.94\n",
      "Fog density 07  vs. Accuracy vs Adv_Accuracy： 0.9444 0.939\n",
      "Fog density 08  vs. Accuracy vs Adv_Accuracy： 0.9444 0.936\n",
      "Fog density 09  vs. Accuracy vs Adv_Accuracy： 0.9444 0.9314\n",
      "Fog density 10  vs. Accuracy vs Adv_Accuracy： 0.9444 0.9268\n",
      "Fog density 11  vs. Accuracy vs Adv_Accuracy： 0.9444 0.9232\n",
      "Fog density 12  vs. Accuracy vs Adv_Accuracy： 0.9444 0.9182\n",
      "Fog density 13  vs. Accuracy vs Adv_Accuracy： 0.9444 0.9098\n",
      "Fog density 14  vs. Accuracy vs Adv_Accuracy： 0.9444 0.8956\n",
      "Fog density 15  vs. Accuracy vs Adv_Accuracy： 0.9444 0.8858\n",
      "Fog density 16  vs. Accuracy vs Adv_Accuracy： 0.9444 0.874\n",
      "Fog density 17  vs. Accuracy vs Adv_Accuracy： 0.9444 0.8574\n",
      "Fog density 18  vs. Accuracy vs Adv_Accuracy： 0.9444 0.8416\n",
      "Fog density 19  vs. Accuracy vs Adv_Accuracy： 0.9444 0.8154\n",
      "Light intensity 00  vs. Accuracy vs Adv_Accuracy： 0.9444 0.9444\n",
      "Light intensity 01  vs. Accuracy vs Adv_Accuracy： 0.9444 0.9428\n",
      "Light intensity 02  vs. Accuracy vs Adv_Accuracy： 0.9444 0.9402\n",
      "Light intensity 03  vs. Accuracy vs Adv_Accuracy： 0.9444 0.9374\n",
      "Light intensity 04  vs. Accuracy vs Adv_Accuracy： 0.9444 0.9336\n",
      "Light intensity 05  vs. Accuracy vs Adv_Accuracy： 0.9444 0.9288\n",
      "Light intensity 06  vs. Accuracy vs Adv_Accuracy： 0.9444 0.926\n",
      "Light intensity 07  vs. Accuracy vs Adv_Accuracy： 0.9444 0.9188\n",
      "Light intensity 08  vs. Accuracy vs Adv_Accuracy： 0.9444 0.9138\n",
      "Light intensity 09  vs. Accuracy vs Adv_Accuracy： 0.9444 0.9054\n",
      "Light intensity 10  vs. Accuracy vs Adv_Accuracy： 0.9444 0.8936\n",
      "Light intensity 11  vs. Accuracy vs Adv_Accuracy： 0.9444 0.8808\n",
      "Light intensity 12  vs. Accuracy vs Adv_Accuracy： 0.9444 0.8618\n",
      "Light intensity 13  vs. Accuracy vs Adv_Accuracy： 0.9444 0.8422\n",
      "Light intensity 14  vs. Accuracy vs Adv_Accuracy： 0.9444 0.8214\n",
      "Light intensity 15  vs. Accuracy vs Adv_Accuracy： 0.9444 0.7884\n",
      "Light intensity 16  vs. Accuracy vs Adv_Accuracy： 0.9444 0.754\n",
      "Light intensity 17  vs. Accuracy vs Adv_Accuracy： 0.9444 0.71\n",
      "Light intensity 18  vs. Accuracy vs Adv_Accuracy： 0.9444 0.6604\n",
      "Light intensity 19  vs. Accuracy vs Adv_Accuracy： 0.9444 0.584\n",
      "Darkness 00  vs. Accuracy vs Adv_Accuracy： 0.9444 0.9444\n",
      "Darkness 01  vs. Accuracy vs Adv_Accuracy： 0.9444 0.9446\n",
      "Darkness 02  vs. Accuracy vs Adv_Accuracy： 0.9444 0.9302\n",
      "Darkness 03  vs. Accuracy vs Adv_Accuracy： 0.9444 0.898\n",
      "Darkness 04  vs. Accuracy vs Adv_Accuracy： 0.9444 0.8452\n",
      "Darkness 05  vs. Accuracy vs Adv_Accuracy： 0.9444 0.7932\n",
      "Darkness 06  vs. Accuracy vs Adv_Accuracy： 0.9444 0.744\n",
      "Darkness 07  vs. Accuracy vs Adv_Accuracy： 0.9444 0.687\n",
      "Darkness 08  vs. Accuracy vs Adv_Accuracy： 0.9444 0.6514\n",
      "Darkness 09  vs. Accuracy vs Adv_Accuracy： 0.9444 0.609\n",
      "Darkness 10  vs. Accuracy vs Adv_Accuracy： 0.9444 0.561\n",
      "Darkness 11  vs. Accuracy vs Adv_Accuracy： 0.9444 0.5226\n",
      "Darkness 12  vs. Accuracy vs Adv_Accuracy： 0.9444 0.4806\n",
      "Darkness 13  vs. Accuracy vs Adv_Accuracy： 0.9444 0.447\n",
      "Darkness 14  vs. Accuracy vs Adv_Accuracy： 0.9444 0.4156\n",
      "Darkness 15  vs. Accuracy vs Adv_Accuracy： 0.9444 0.386\n",
      "Darkness 16  vs. Accuracy vs Adv_Accuracy： 0.9444 0.357\n",
      "Darkness 17  vs. Accuracy vs Adv_Accuracy： 0.9444 0.3286\n",
      "Darkness 18  vs. Accuracy vs Adv_Accuracy： 0.9444 0.3044\n",
      "Darkness 19  vs. Accuracy vs Adv_Accuracy： 0.9444 0.2848\n",
      "Blur deviation 00  vs. Accuracy vs Adv_Accuracy： 0.9444 0.9346\n",
      "Blur deviation 01  vs. Accuracy vs Adv_Accuracy： 0.9444 0.9282\n",
      "Blur deviation 02  vs. Accuracy vs Adv_Accuracy： 0.9444 0.9208\n",
      "Blur deviation 03  vs. Accuracy vs Adv_Accuracy： 0.9444 0.9092\n",
      "Blur deviation 04  vs. Accuracy vs Adv_Accuracy： 0.9444 0.8952\n",
      "Blur deviation 05  vs. Accuracy vs Adv_Accuracy： 0.9444 0.8806\n",
      "Blur deviation 06  vs. Accuracy vs Adv_Accuracy： 0.9444 0.8614\n",
      "Blur deviation 07  vs. Accuracy vs Adv_Accuracy： 0.9444 0.8372\n",
      "Blur deviation 08  vs. Accuracy vs Adv_Accuracy： 0.9444 0.813\n",
      "Blur deviation 09  vs. Accuracy vs Adv_Accuracy： 0.9444 0.788\n",
      "Blur deviation 10  vs. Accuracy vs Adv_Accuracy： 0.9444 0.76\n",
      "Blur deviation 11  vs. Accuracy vs Adv_Accuracy： 0.9444 0.7254\n",
      "Blur deviation 12  vs. Accuracy vs Adv_Accuracy： 0.9444 0.6868\n",
      "Blur deviation 13  vs. Accuracy vs Adv_Accuracy： 0.9444 0.6442\n",
      "Blur deviation 14  vs. Accuracy vs Adv_Accuracy： 0.9444 0.6018\n",
      "Blur deviation 15  vs. Accuracy vs Adv_Accuracy： 0.9444 0.5584\n",
      "Blur deviation 16  vs. Accuracy vs Adv_Accuracy： 0.9444 0.5196\n",
      "Blur deviation 17  vs. Accuracy vs Adv_Accuracy： 0.9444 0.479\n",
      "Blur deviation 18  vs. Accuracy vs Adv_Accuracy： 0.9444 0.4398\n",
      "Blur deviation 19  vs. Accuracy vs Adv_Accuracy： 0.9444 0.4022\n"
     ]
    }
   ],
   "source": [
    "with tf.Session() as sess:\n",
    "\n",
    "    saver = tf.train.Saver()\n",
    "    filename = tf.train.latest_checkpoint(\"./robust_model_100/\")\n",
    "#     filename = tf.train.latest_checkpoint(\"./natural_model/\")\n",
    "    print(\"Latest training checkpoint is \", filename)\n",
    "    if filename != None:\n",
    "        saver.restore(sess, filename)\n",
    "    else:\n",
    "        print(\"No checkpoint found, exit.\")\n",
    "        exit()\n",
    "\n",
    "    test_gen = next_batch(X_test, y_test, 5000, True)\n",
    "    images, labels = next(test_gen)\n",
    "    acc = sess.run(model.accuracy, feed_dict={x: images, y: labels, keep_prob: 1})\n",
    "    for i in range(20):\n",
    "        rain_images = rain(images, i)\n",
    "        adv_acc = sess.run(model.accuracy, feed_dict={x: rain_images, y: labels, keep_prob: 1})\n",
    "        print(\"Rain Drops %.2d  vs. Accuracy vs Adv_Accuracy：\" % i, acc, adv_acc)\n",
    "    for i in range(20):\n",
    "        rain_images = fog(images, i)\n",
    "        adv_acc = sess.run(model.accuracy, feed_dict={x: rain_images, y: labels, keep_prob: 1})\n",
    "        print(\"Fog density %.2d  vs. Accuracy vs Adv_Accuracy：\" % i, acc, adv_acc)\n",
    "    for i in range(20):\n",
    "        rain_images = light(images, i)\n",
    "        adv_acc = sess.run(model.accuracy, feed_dict={x: rain_images, y: labels, keep_prob: 1})\n",
    "        print(\"Light intensity %.2d  vs. Accuracy vs Adv_Accuracy：\" % i, acc, adv_acc)\n",
    "    for i in range(20):\n",
    "        rain_images = dark(images, i)\n",
    "        adv_acc = sess.run(model.accuracy, feed_dict={x: rain_images, y: labels, keep_prob: 1})\n",
    "        print(\"Darkness %.2d  vs. Accuracy vs Adv_Accuracy：\" % i, acc, adv_acc)\n",
    "    for i in range(20):\n",
    "        rain_images = blur(images, i)\n",
    "        adv_acc = sess.run(model.accuracy, feed_dict={x: rain_images, y: labels, keep_prob: 1})\n",
    "        print(\"Blur deviation %.2d  vs. Accuracy vs Adv_Accuracy：\" % i, acc, adv_acc)\n",
    "\n",
    "#         grad_loss = sess.run(model.grad_loss, feed_dict={x: images, y: labels, keep_prob: 1})\n",
    "#         print(grad_loss)\n",
    "\n",
    "#         idx = sess.run(model.predictions, feed_dict={x: images, y: labels, keep_prob: 1})\n",
    "\n",
    "#         adv_idx = sess.run(model.predictions, feed_dict={x: adv_images, y: labels, keep_prob: 1})\n",
    "#         print(\"Original Label is:\", label_map[np.argmax(labels[0])])\n",
    "\n",
    "#         plt.subplot(1,2,1)\n",
    "#         plt.imshow(images.reshape((32, 32, 3)))\n",
    "#         plt.title(label_map[idx[0]])\n",
    "#         plt.subplot(1,2,2)\n",
    "#         plt.imshow(images.reshape((32, 32, 3)))\n",
    "#         plt.title(label_map[adv_idx[0]])\n",
    "#         plt.show()\n",
    "#         print(label_map[idx[0]], label_map[adv_idx[0]])"
   ]
  },
  {
   "cell_type": "code",
   "execution_count": 8,
   "metadata": {},
   "outputs": [
    {
     "name": "stdout",
     "output_type": "stream",
     "text": [
      "Latest training checkpoint is  ./robust_model_100/checkpoint-153720\n",
      "INFO:tensorflow:Restoring parameters from ./robust_model_100/checkpoint-153720\n",
      "Accuracy vs Adv_Accuracy： 0.946 0.609\n",
      "8.238152e-08\n"
     ]
    }
   ],
   "source": [
    "with tf.Session() as sess:\n",
    "\n",
    "    saver = tf.train.Saver()\n",
    "    filename = tf.train.latest_checkpoint(\"./robust_model_100/\")\n",
    "    print(\"Latest training checkpoint is \", filename)\n",
    "    if filename != None:\n",
    "        saver.restore(sess, filename)\n",
    "    else:\n",
    "        print(\"No checkpoint found, exit.\")\n",
    "        exit()\n",
    "\n",
    "    # Accuracy = 0\n",
    "    # num = 10\n",
    "    # batch_size = math.ceil(X_test.shape[0] / num)\n",
    "    test_gen = next_batch(X_test, y_test, 1000, True)\n",
    "\n",
    "    for i in range(1):\n",
    "\n",
    "        # Run testing on each batch\n",
    "        images, labels = next(test_gen)\n",
    "\n",
    "        adv_images = attack(sess, images, labels)\n",
    "        # Perform gradient update (i.e. training step) on current batch\n",
    "        acc = sess.run(model.accuracy, feed_dict={x: images, y: labels, keep_prob: 1})\n",
    "        adv_acc = sess.run(model.accuracy, feed_dict={x: adv_images, y: labels, keep_prob: 1})\n",
    "        print(\"Accuracy vs Adv_Accuracy：\", acc, adv_acc)\n",
    "        grad_loss = sess.run(model.grad_loss, feed_dict={x: images, y: labels, keep_prob: 1})\n",
    "        print(grad_loss)\n",
    "\n",
    "#         idx = sess.run(model.predictions, feed_dict={x: images, y: labels, keep_prob: 1})\n",
    "\n",
    "#         adv_idx = sess.run(model.predictions, feed_dict={x: adv_images, y: labels, keep_prob: 1})\n",
    "#         print(\"Original Label is:\", label_map[np.argmax(labels[0])])\n",
    "\n",
    "#         plt.subplot(1,2,1)\n",
    "#         plt.imshow(images.reshape((32, 32, 3)))\n",
    "#         plt.title(label_map[idx[0]])\n",
    "#         plt.subplot(1,2,2)\n",
    "#         plt.imshow(images.reshape((32, 32, 3)))\n",
    "#         plt.title(label_map[adv_idx[0]])\n",
    "#         plt.show()\n",
    "        # \t\tprint(label_map[idx[0]], label_map[adv_idx[0]])"
   ]
  },
  {
   "cell_type": "code",
   "execution_count": 9,
   "metadata": {},
   "outputs": [
    {
     "name": "stdout",
     "output_type": "stream",
     "text": [
      "Latest training checkpoint is  ./natural_model/checkpoint-50400\n",
      "INFO:tensorflow:Restoring parameters from ./natural_model/checkpoint-50400\n",
      "Accuracy vs Adv_Accuracy： 0.96 0.217\n",
      "2.5545069e-06\n"
     ]
    }
   ],
   "source": [
    "with tf.Session() as sess:\n",
    "\n",
    "    saver = tf.train.Saver()\n",
    "    filename = tf.train.latest_checkpoint(\"./natural_model/\")\n",
    "    print(\"Latest training checkpoint is \", filename)\n",
    "    if filename != None:\n",
    "        saver.restore(sess, filename)\n",
    "    else:\n",
    "        print(\"No checkpoint found, exit.\")\n",
    "        exit()\n",
    "\n",
    "    # Accuracy = 0\n",
    "    # num = 10\n",
    "    # batch_size = math.ceil(X_test.shape[0] / num)\n",
    "    test_gen = next_batch(X_test, y_test, 1000, True)\n",
    "\n",
    "    for i in range(1):\n",
    "\n",
    "        # Run testing on each batch\n",
    "        images, labels = next(test_gen)\n",
    "\n",
    "        adv_images = attack(sess, images, labels)\n",
    "\n",
    "        # Perform gradient update (i.e. training step) on current batch\n",
    "        acc = sess.run(model.accuracy, feed_dict={x: images, y: labels, keep_prob: 1})\n",
    "        adv_acc = sess.run(model.accuracy, feed_dict={x: adv_images, y: labels, keep_prob: 1})\n",
    "        print(\"Accuracy vs Adv_Accuracy：\", acc, adv_acc)\n",
    "        grad_loss = sess.run(model.grad_loss, feed_dict={x: images, y: labels, keep_prob: 1})\n",
    "        print(grad_loss)\n",
    "\n",
    "#         idx = sess.run(model.predictions, feed_dict={x: images, y: labels, keep_prob: 1})\n",
    "\n",
    "#         adv_idx = sess.run(model.predictions, feed_dict={x: adv_images, y: labels, keep_prob: 1})\n",
    "#         print(\"Original Label is:\", label_map[np.argmax(labels[0])])\n",
    "\n",
    "#         plt.subplot(1,2,1)\n",
    "#         plt.imshow(images.reshape((32, 32, 3)))\n",
    "#         plt.title(label_map[idx[0]])\n",
    "#         plt.subplot(1,2,2)\n",
    "#         plt.imshow(images.reshape((32, 32, 3)))\n",
    "#         plt.title(label_map[adv_idx[0]])\n",
    "#         plt.show()\n",
    "        # \t\tprint(label_map[idx[0]], label_map[adv_idx[0]])"
   ]
  },
  {
   "cell_type": "code",
   "execution_count": 49,
   "metadata": {},
   "outputs": [
    {
     "name": "stdout",
     "output_type": "stream",
     "text": [
      "{0: 'Speed limit (20km/h)\\n', 1: 'Speed limit (30km/h)\\n', 2: 'Speed limit (50km/h)\\n', 3: 'Speed limit (60km/h)\\n', 4: 'Speed limit (70km/h)\\n', 5: 'Speed limit (80km/h)\\n', 6: 'End of speed limit (80km/h)\\n', 7: 'Speed limit (100km/h)\\n', 8: 'Speed limit (120km/h)\\n', 9: 'No passing\\n', 10: 'No passing for vechiles over 3.5 metric tons\\n', 11: 'Right-of-way at the next intersection\\n', 12: 'Priority road\\n', 13: 'Yield\\n', 14: 'Stop\\n', 15: 'No vechiles\\n', 16: 'Vechiles over 3.5 metric tons prohibited\\n', 17: 'No entry\\n', 18: 'General caution\\n', 19: 'Dangerous curve to the left\\n', 20: 'Dangerous curve to the right\\n', 21: 'Double curve\\n', 22: 'Bumpy road\\n', 23: 'Slippery road\\n', 24: 'Road narrows on the right\\n', 25: 'Road work\\n', 26: 'Traffic signals\\n', 27: 'Pedestrians\\n', 28: 'Children crossing\\n', 29: 'Bicycles crossing\\n', 30: 'Beware of ice/snow\\n', 31: 'Wild animals crossing\\n', 32: 'End of all speed and passing limits\\n', 33: 'Turn right ahead\\n', 34: 'Turn left ahead\\n', 35: 'Ahead only\\n', 36: 'Go straight or right\\n', 37: 'Go straight or left\\n', 38: 'Keep right\\n', 39: 'Keep left\\n', 40: 'Roundabout mandatory\\n', 41: 'End of no passing\\n', 42: 'End of no passing by vechiles over 3.5 metric tons\\n'}\n"
     ]
    }
   ],
   "source": [
    "print(label_map)"
   ]
  },
  {
   "cell_type": "code",
   "execution_count": 60,
   "metadata": {
    "scrolled": false
   },
   "outputs": [
    {
     "name": "stdout",
     "output_type": "stream",
     "text": [
      "Latest training checkpoint is  ./robust_model_100/checkpoint-153720\n",
      "INFO:tensorflow:Restoring parameters from ./robust_model_100/checkpoint-153720\n"
     ]
    },
    {
     "name": "stderr",
     "output_type": "stream",
     "text": [
      "/usr/local/lib/python3.5/dist-packages/matplotlib/pyplot.py:537: RuntimeWarning: More than 20 figures have been opened. Figures created through the pyplot interface (`matplotlib.pyplot.figure`) are retained until explicitly closed and may consume too much memory. (To control this warning, see the rcParam `figure.max_open_warning`).\n",
      "  max_open_warning, RuntimeWarning)\n"
     ]
    },
    {
     "data": {
      "text/plain": [
       "<Figure size 1440x720 with 0 Axes>"
      ]
     },
     "metadata": {},
     "output_type": "display_data"
    },
    {
     "data": {
      "text/plain": [
       "<Figure size 1440x720 with 0 Axes>"
      ]
     },
     "metadata": {},
     "output_type": "display_data"
    },
    {
     "data": {
      "text/plain": [
       "<Figure size 1440x720 with 0 Axes>"
      ]
     },
     "metadata": {},
     "output_type": "display_data"
    },
    {
     "data": {
      "text/plain": [
       "<Figure size 1440x720 with 0 Axes>"
      ]
     },
     "metadata": {},
     "output_type": "display_data"
    },
    {
     "data": {
      "text/plain": [
       "<Figure size 1440x720 with 0 Axes>"
      ]
     },
     "metadata": {},
     "output_type": "display_data"
    },
    {
     "data": {
      "text/plain": [
       "<Figure size 1440x720 with 0 Axes>"
      ]
     },
     "metadata": {},
     "output_type": "display_data"
    },
    {
     "data": {
      "text/plain": [
       "<Figure size 1440x720 with 0 Axes>"
      ]
     },
     "metadata": {},
     "output_type": "display_data"
    },
    {
     "data": {
      "text/plain": [
       "<Figure size 1440x720 with 0 Axes>"
      ]
     },
     "metadata": {},
     "output_type": "display_data"
    },
    {
     "data": {
      "text/plain": [
       "<Figure size 1440x720 with 0 Axes>"
      ]
     },
     "metadata": {},
     "output_type": "display_data"
    },
    {
     "data": {
      "text/plain": [
       "<Figure size 1440x720 with 0 Axes>"
      ]
     },
     "metadata": {},
     "output_type": "display_data"
    },
    {
     "data": {
      "text/plain": [
       "<Figure size 1440x720 with 0 Axes>"
      ]
     },
     "metadata": {},
     "output_type": "display_data"
    },
    {
     "data": {
      "text/plain": [
       "<Figure size 1440x720 with 0 Axes>"
      ]
     },
     "metadata": {},
     "output_type": "display_data"
    },
    {
     "data": {
      "text/plain": [
       "<Figure size 1440x720 with 0 Axes>"
      ]
     },
     "metadata": {},
     "output_type": "display_data"
    },
    {
     "data": {
      "text/plain": [
       "<Figure size 1440x720 with 0 Axes>"
      ]
     },
     "metadata": {},
     "output_type": "display_data"
    },
    {
     "data": {
      "text/plain": [
       "<Figure size 1440x720 with 0 Axes>"
      ]
     },
     "metadata": {},
     "output_type": "display_data"
    },
    {
     "data": {
      "text/plain": [
       "<Figure size 1440x720 with 0 Axes>"
      ]
     },
     "metadata": {},
     "output_type": "display_data"
    },
    {
     "data": {
      "text/plain": [
       "<Figure size 1440x720 with 0 Axes>"
      ]
     },
     "metadata": {},
     "output_type": "display_data"
    },
    {
     "data": {
      "text/plain": [
       "<Figure size 1440x720 with 0 Axes>"
      ]
     },
     "metadata": {},
     "output_type": "display_data"
    },
    {
     "data": {
      "text/plain": [
       "<Figure size 1440x720 with 0 Axes>"
      ]
     },
     "metadata": {},
     "output_type": "display_data"
    },
    {
     "data": {
      "text/plain": [
       "<Figure size 1440x720 with 0 Axes>"
      ]
     },
     "metadata": {},
     "output_type": "display_data"
    },
    {
     "data": {
      "text/plain": [
       "<Figure size 1440x720 with 0 Axes>"
      ]
     },
     "metadata": {},
     "output_type": "display_data"
    },
    {
     "data": {
      "text/plain": [
       "<Figure size 1440x720 with 0 Axes>"
      ]
     },
     "metadata": {},
     "output_type": "display_data"
    },
    {
     "data": {
      "text/plain": [
       "<Figure size 1440x720 with 0 Axes>"
      ]
     },
     "metadata": {},
     "output_type": "display_data"
    },
    {
     "data": {
      "text/plain": [
       "<Figure size 1440x720 with 0 Axes>"
      ]
     },
     "metadata": {},
     "output_type": "display_data"
    },
    {
     "data": {
      "text/plain": [
       "<Figure size 1440x720 with 0 Axes>"
      ]
     },
     "metadata": {},
     "output_type": "display_data"
    },
    {
     "data": {
      "text/plain": [
       "<Figure size 1440x720 with 0 Axes>"
      ]
     },
     "metadata": {},
     "output_type": "display_data"
    },
    {
     "data": {
      "text/plain": [
       "<Figure size 1440x720 with 0 Axes>"
      ]
     },
     "metadata": {},
     "output_type": "display_data"
    },
    {
     "data": {
      "text/plain": [
       "<Figure size 1440x720 with 0 Axes>"
      ]
     },
     "metadata": {},
     "output_type": "display_data"
    },
    {
     "data": {
      "text/plain": [
       "<Figure size 1440x720 with 0 Axes>"
      ]
     },
     "metadata": {},
     "output_type": "display_data"
    },
    {
     "data": {
      "text/plain": [
       "<Figure size 1440x720 with 0 Axes>"
      ]
     },
     "metadata": {},
     "output_type": "display_data"
    },
    {
     "data": {
      "text/plain": [
       "<Figure size 1440x720 with 0 Axes>"
      ]
     },
     "metadata": {},
     "output_type": "display_data"
    },
    {
     "data": {
      "text/plain": [
       "<Figure size 1440x720 with 0 Axes>"
      ]
     },
     "metadata": {},
     "output_type": "display_data"
    },
    {
     "data": {
      "text/plain": [
       "<Figure size 1440x720 with 0 Axes>"
      ]
     },
     "metadata": {},
     "output_type": "display_data"
    },
    {
     "data": {
      "text/plain": [
       "<Figure size 1440x720 with 0 Axes>"
      ]
     },
     "metadata": {},
     "output_type": "display_data"
    },
    {
     "data": {
      "text/plain": [
       "<Figure size 1440x720 with 0 Axes>"
      ]
     },
     "metadata": {},
     "output_type": "display_data"
    },
    {
     "data": {
      "text/plain": [
       "<Figure size 1440x720 with 0 Axes>"
      ]
     },
     "metadata": {},
     "output_type": "display_data"
    },
    {
     "data": {
      "text/plain": [
       "<Figure size 1440x720 with 0 Axes>"
      ]
     },
     "metadata": {},
     "output_type": "display_data"
    },
    {
     "data": {
      "text/plain": [
       "<Figure size 1440x720 with 0 Axes>"
      ]
     },
     "metadata": {},
     "output_type": "display_data"
    },
    {
     "data": {
      "text/plain": [
       "<Figure size 1440x720 with 0 Axes>"
      ]
     },
     "metadata": {},
     "output_type": "display_data"
    },
    {
     "data": {
      "text/plain": [
       "<Figure size 1440x720 with 0 Axes>"
      ]
     },
     "metadata": {},
     "output_type": "display_data"
    },
    {
     "data": {
      "text/plain": [
       "<Figure size 1440x720 with 0 Axes>"
      ]
     },
     "metadata": {},
     "output_type": "display_data"
    },
    {
     "data": {
      "text/plain": [
       "<Figure size 1440x720 with 0 Axes>"
      ]
     },
     "metadata": {},
     "output_type": "display_data"
    },
    {
     "data": {
      "text/plain": [
       "<Figure size 1440x720 with 0 Axes>"
      ]
     },
     "metadata": {},
     "output_type": "display_data"
    },
    {
     "data": {
      "text/plain": [
       "<Figure size 1440x720 with 0 Axes>"
      ]
     },
     "metadata": {},
     "output_type": "display_data"
    },
    {
     "data": {
      "text/plain": [
       "<Figure size 1440x720 with 0 Axes>"
      ]
     },
     "metadata": {},
     "output_type": "display_data"
    },
    {
     "data": {
      "text/plain": [
       "<Figure size 1440x720 with 0 Axes>"
      ]
     },
     "metadata": {},
     "output_type": "display_data"
    },
    {
     "data": {
      "text/plain": [
       "<Figure size 1440x720 with 0 Axes>"
      ]
     },
     "metadata": {},
     "output_type": "display_data"
    },
    {
     "data": {
      "text/plain": [
       "<Figure size 1440x720 with 0 Axes>"
      ]
     },
     "metadata": {},
     "output_type": "display_data"
    },
    {
     "data": {
      "text/plain": [
       "<Figure size 1440x720 with 0 Axes>"
      ]
     },
     "metadata": {},
     "output_type": "display_data"
    },
    {
     "data": {
      "text/plain": [
       "<Figure size 1440x720 with 0 Axes>"
      ]
     },
     "metadata": {},
     "output_type": "display_data"
    },
    {
     "data": {
      "text/plain": [
       "<Figure size 1440x720 with 0 Axes>"
      ]
     },
     "metadata": {},
     "output_type": "display_data"
    },
    {
     "data": {
      "text/plain": [
       "<Figure size 1440x720 with 0 Axes>"
      ]
     },
     "metadata": {},
     "output_type": "display_data"
    },
    {
     "data": {
      "text/plain": [
       "<Figure size 1440x720 with 0 Axes>"
      ]
     },
     "metadata": {},
     "output_type": "display_data"
    },
    {
     "data": {
      "text/plain": [
       "<Figure size 1440x720 with 0 Axes>"
      ]
     },
     "metadata": {},
     "output_type": "display_data"
    },
    {
     "data": {
      "text/plain": [
       "<Figure size 1440x720 with 0 Axes>"
      ]
     },
     "metadata": {},
     "output_type": "display_data"
    },
    {
     "data": {
      "text/plain": [
       "<Figure size 1440x720 with 0 Axes>"
      ]
     },
     "metadata": {},
     "output_type": "display_data"
    },
    {
     "data": {
      "text/plain": [
       "<Figure size 1440x720 with 0 Axes>"
      ]
     },
     "metadata": {},
     "output_type": "display_data"
    },
    {
     "data": {
      "text/plain": [
       "<Figure size 1440x720 with 0 Axes>"
      ]
     },
     "metadata": {},
     "output_type": "display_data"
    },
    {
     "data": {
      "text/plain": [
       "<Figure size 1440x720 with 0 Axes>"
      ]
     },
     "metadata": {},
     "output_type": "display_data"
    },
    {
     "data": {
      "text/plain": [
       "<Figure size 1440x720 with 0 Axes>"
      ]
     },
     "metadata": {},
     "output_type": "display_data"
    },
    {
     "data": {
      "text/plain": [
       "<Figure size 1440x720 with 0 Axes>"
      ]
     },
     "metadata": {},
     "output_type": "display_data"
    },
    {
     "data": {
      "text/plain": [
       "<Figure size 1440x720 with 0 Axes>"
      ]
     },
     "metadata": {},
     "output_type": "display_data"
    },
    {
     "data": {
      "text/plain": [
       "<Figure size 1440x720 with 0 Axes>"
      ]
     },
     "metadata": {},
     "output_type": "display_data"
    },
    {
     "data": {
      "text/plain": [
       "<Figure size 1440x720 with 0 Axes>"
      ]
     },
     "metadata": {},
     "output_type": "display_data"
    },
    {
     "data": {
      "text/plain": [
       "<Figure size 1440x720 with 0 Axes>"
      ]
     },
     "metadata": {},
     "output_type": "display_data"
    },
    {
     "data": {
      "text/plain": [
       "<Figure size 1440x720 with 0 Axes>"
      ]
     },
     "metadata": {},
     "output_type": "display_data"
    },
    {
     "data": {
      "text/plain": [
       "<Figure size 1440x720 with 0 Axes>"
      ]
     },
     "metadata": {},
     "output_type": "display_data"
    },
    {
     "data": {
      "text/plain": [
       "<Figure size 1440x720 with 0 Axes>"
      ]
     },
     "metadata": {},
     "output_type": "display_data"
    },
    {
     "data": {
      "text/plain": [
       "<Figure size 1440x720 with 0 Axes>"
      ]
     },
     "metadata": {},
     "output_type": "display_data"
    },
    {
     "data": {
      "text/plain": [
       "<Figure size 1440x720 with 0 Axes>"
      ]
     },
     "metadata": {},
     "output_type": "display_data"
    },
    {
     "data": {
      "text/plain": [
       "<Figure size 1440x720 with 0 Axes>"
      ]
     },
     "metadata": {},
     "output_type": "display_data"
    },
    {
     "data": {
      "text/plain": [
       "<Figure size 1440x720 with 0 Axes>"
      ]
     },
     "metadata": {},
     "output_type": "display_data"
    },
    {
     "data": {
      "text/plain": [
       "<Figure size 1440x720 with 0 Axes>"
      ]
     },
     "metadata": {},
     "output_type": "display_data"
    },
    {
     "data": {
      "text/plain": [
       "<Figure size 1440x720 with 0 Axes>"
      ]
     },
     "metadata": {},
     "output_type": "display_data"
    },
    {
     "data": {
      "text/plain": [
       "<Figure size 1440x720 with 0 Axes>"
      ]
     },
     "metadata": {},
     "output_type": "display_data"
    },
    {
     "data": {
      "text/plain": [
       "<Figure size 1440x720 with 0 Axes>"
      ]
     },
     "metadata": {},
     "output_type": "display_data"
    },
    {
     "data": {
      "text/plain": [
       "<Figure size 1440x720 with 0 Axes>"
      ]
     },
     "metadata": {},
     "output_type": "display_data"
    },
    {
     "data": {
      "text/plain": [
       "<Figure size 1440x720 with 0 Axes>"
      ]
     },
     "metadata": {},
     "output_type": "display_data"
    },
    {
     "data": {
      "text/plain": [
       "<Figure size 1440x720 with 0 Axes>"
      ]
     },
     "metadata": {},
     "output_type": "display_data"
    },
    {
     "data": {
      "text/plain": [
       "<Figure size 1440x720 with 0 Axes>"
      ]
     },
     "metadata": {},
     "output_type": "display_data"
    },
    {
     "data": {
      "text/plain": [
       "<Figure size 1440x720 with 0 Axes>"
      ]
     },
     "metadata": {},
     "output_type": "display_data"
    },
    {
     "data": {
      "text/plain": [
       "<Figure size 1440x720 with 0 Axes>"
      ]
     },
     "metadata": {},
     "output_type": "display_data"
    },
    {
     "data": {
      "text/plain": [
       "<Figure size 1440x720 with 0 Axes>"
      ]
     },
     "metadata": {},
     "output_type": "display_data"
    },
    {
     "data": {
      "text/plain": [
       "<Figure size 1440x720 with 0 Axes>"
      ]
     },
     "metadata": {},
     "output_type": "display_data"
    },
    {
     "data": {
      "text/plain": [
       "<Figure size 1440x720 with 0 Axes>"
      ]
     },
     "metadata": {},
     "output_type": "display_data"
    },
    {
     "data": {
      "text/plain": [
       "<Figure size 1440x720 with 0 Axes>"
      ]
     },
     "metadata": {},
     "output_type": "display_data"
    },
    {
     "data": {
      "text/plain": [
       "<Figure size 1440x720 with 0 Axes>"
      ]
     },
     "metadata": {},
     "output_type": "display_data"
    },
    {
     "data": {
      "text/plain": [
       "<Figure size 1440x720 with 0 Axes>"
      ]
     },
     "metadata": {},
     "output_type": "display_data"
    },
    {
     "data": {
      "text/plain": [
       "<Figure size 1440x720 with 0 Axes>"
      ]
     },
     "metadata": {},
     "output_type": "display_data"
    },
    {
     "data": {
      "text/plain": [
       "<Figure size 1440x720 with 0 Axes>"
      ]
     },
     "metadata": {},
     "output_type": "display_data"
    },
    {
     "data": {
      "text/plain": [
       "<Figure size 1440x720 with 0 Axes>"
      ]
     },
     "metadata": {},
     "output_type": "display_data"
    },
    {
     "data": {
      "text/plain": [
       "<Figure size 1440x720 with 0 Axes>"
      ]
     },
     "metadata": {},
     "output_type": "display_data"
    },
    {
     "data": {
      "text/plain": [
       "<Figure size 1440x720 with 0 Axes>"
      ]
     },
     "metadata": {},
     "output_type": "display_data"
    },
    {
     "data": {
      "image/png": "[encoded data removed]",
      "text/plain": [
       "<Figure size 1440x720 with 5 Axes>"
      ]
     },
     "metadata": {},
     "output_type": "display_data"
    },
    {
     "data": {
      "text/plain": [
       "<Figure size 1440x720 with 0 Axes>"
      ]
     },
     "metadata": {},
     "output_type": "display_data"
    },
    {
     "data": {
      "text/plain": [
       "<Figure size 1440x720 with 0 Axes>"
      ]
     },
     "metadata": {},
     "output_type": "display_data"
    },
    {
     "data": {
      "text/plain": [
       "<Figure size 1440x720 with 0 Axes>"
      ]
     },
     "metadata": {},
     "output_type": "display_data"
    },
    {
     "data": {
      "text/plain": [
       "<Figure size 1440x720 with 0 Axes>"
      ]
     },
     "metadata": {},
     "output_type": "display_data"
    },
    {
     "data": {
      "text/plain": [
       "<Figure size 1440x720 with 0 Axes>"
      ]
     },
     "metadata": {},
     "output_type": "display_data"
    },
    {
     "data": {
      "text/plain": [
       "<Figure size 1440x720 with 0 Axes>"
      ]
     },
     "metadata": {},
     "output_type": "display_data"
    },
    {
     "data": {
      "text/plain": [
       "<Figure size 1440x720 with 0 Axes>"
      ]
     },
     "metadata": {},
     "output_type": "display_data"
    },
    {
     "data": {
      "text/plain": [
       "<Figure size 1440x720 with 0 Axes>"
      ]
     },
     "metadata": {},
     "output_type": "display_data"
    },
    {
     "data": {
      "text/plain": [
       "<Figure size 1440x720 with 0 Axes>"
      ]
     },
     "metadata": {},
     "output_type": "display_data"
    },
    {
     "data": {
      "text/plain": [
       "<Figure size 1440x720 with 0 Axes>"
      ]
     },
     "metadata": {},
     "output_type": "display_data"
    },
    {
     "data": {
      "text/plain": [
       "<Figure size 1440x720 with 0 Axes>"
      ]
     },
     "metadata": {},
     "output_type": "display_data"
    },
    {
     "data": {
      "text/plain": [
       "<Figure size 1440x720 with 0 Axes>"
      ]
     },
     "metadata": {},
     "output_type": "display_data"
    },
    {
     "data": {
      "text/plain": [
       "<Figure size 1440x720 with 0 Axes>"
      ]
     },
     "metadata": {},
     "output_type": "display_data"
    },
    {
     "data": {
      "text/plain": [
       "<Figure size 1440x720 with 0 Axes>"
      ]
     },
     "metadata": {},
     "output_type": "display_data"
    },
    {
     "data": {
      "text/plain": [
       "<Figure size 1440x720 with 0 Axes>"
      ]
     },
     "metadata": {},
     "output_type": "display_data"
    },
    {
     "data": {
      "text/plain": [
       "<Figure size 1440x720 with 0 Axes>"
      ]
     },
     "metadata": {},
     "output_type": "display_data"
    },
    {
     "data": {
      "text/plain": [
       "<Figure size 1440x720 with 0 Axes>"
      ]
     },
     "metadata": {},
     "output_type": "display_data"
    },
    {
     "data": {
      "image/png": "[encoded data removed]",
      "text/plain": [
       "<Figure size 1440x720 with 5 Axes>"
      ]
     },
     "metadata": {},
     "output_type": "display_data"
    },
    {
     "data": {
      "text/plain": [
       "<Figure size 1440x720 with 0 Axes>"
      ]
     },
     "metadata": {},
     "output_type": "display_data"
    },
    {
     "data": {
      "text/plain": [
       "<Figure size 1440x720 with 0 Axes>"
      ]
     },
     "metadata": {},
     "output_type": "display_data"
    },
    {
     "data": {
      "text/plain": [
       "<Figure size 1440x720 with 0 Axes>"
      ]
     },
     "metadata": {},
     "output_type": "display_data"
    },
    {
     "data": {
      "text/plain": [
       "<Figure size 1440x720 with 0 Axes>"
      ]
     },
     "metadata": {},
     "output_type": "display_data"
    },
    {
     "data": {
      "text/plain": [
       "<Figure size 1440x720 with 0 Axes>"
      ]
     },
     "metadata": {},
     "output_type": "display_data"
    },
    {
     "data": {
      "text/plain": [
       "<Figure size 1440x720 with 0 Axes>"
      ]
     },
     "metadata": {},
     "output_type": "display_data"
    },
    {
     "data": {
      "text/plain": [
       "<Figure size 1440x720 with 0 Axes>"
      ]
     },
     "metadata": {},
     "output_type": "display_data"
    },
    {
     "data": {
      "text/plain": [
       "<Figure size 1440x720 with 0 Axes>"
      ]
     },
     "metadata": {},
     "output_type": "display_data"
    },
    {
     "data": {
      "text/plain": [
       "<Figure size 1440x720 with 0 Axes>"
      ]
     },
     "metadata": {},
     "output_type": "display_data"
    },
    {
     "data": {
      "text/plain": [
       "<Figure size 1440x720 with 0 Axes>"
      ]
     },
     "metadata": {},
     "output_type": "display_data"
    },
    {
     "data": {
      "text/plain": [
       "<Figure size 1440x720 with 0 Axes>"
      ]
     },
     "metadata": {},
     "output_type": "display_data"
    },
    {
     "data": {
      "text/plain": [
       "<Figure size 1440x720 with 0 Axes>"
      ]
     },
     "metadata": {},
     "output_type": "display_data"
    },
    {
     "data": {
      "text/plain": [
       "<Figure size 1440x720 with 0 Axes>"
      ]
     },
     "metadata": {},
     "output_type": "display_data"
    },
    {
     "data": {
      "text/plain": [
       "<Figure size 1440x720 with 0 Axes>"
      ]
     },
     "metadata": {},
     "output_type": "display_data"
    },
    {
     "data": {
      "text/plain": [
       "<Figure size 1440x720 with 0 Axes>"
      ]
     },
     "metadata": {},
     "output_type": "display_data"
    },
    {
     "data": {
      "text/plain": [
       "<Figure size 1440x720 with 0 Axes>"
      ]
     },
     "metadata": {},
     "output_type": "display_data"
    },
    {
     "data": {
      "text/plain": [
       "<Figure size 1440x720 with 0 Axes>"
      ]
     },
     "metadata": {},
     "output_type": "display_data"
    },
    {
     "data": {
      "text/plain": [
       "<Figure size 1440x720 with 0 Axes>"
      ]
     },
     "metadata": {},
     "output_type": "display_data"
    },
    {
     "data": {
      "text/plain": [
       "<Figure size 1440x720 with 0 Axes>"
      ]
     },
     "metadata": {},
     "output_type": "display_data"
    },
    {
     "data": {
      "text/plain": [
       "<Figure size 1440x720 with 0 Axes>"
      ]
     },
     "metadata": {},
     "output_type": "display_data"
    },
    {
     "data": {
      "image/png": "[encoded data removed]",
      "text/plain": [
       "<Figure size 1440x720 with 5 Axes>"
      ]
     },
     "metadata": {},
     "output_type": "display_data"
    },
    {
     "data": {
      "text/plain": [
       "<Figure size 1440x720 with 0 Axes>"
      ]
     },
     "metadata": {},
     "output_type": "display_data"
    },
    {
     "data": {
      "text/plain": [
       "<Figure size 1440x720 with 0 Axes>"
      ]
     },
     "metadata": {},
     "output_type": "display_data"
    },
    {
     "data": {
      "text/plain": [
       "<Figure size 1440x720 with 0 Axes>"
      ]
     },
     "metadata": {},
     "output_type": "display_data"
    },
    {
     "data": {
      "text/plain": [
       "<Figure size 1440x720 with 0 Axes>"
      ]
     },
     "metadata": {},
     "output_type": "display_data"
    },
    {
     "data": {
      "text/plain": [
       "<Figure size 1440x720 with 0 Axes>"
      ]
     },
     "metadata": {},
     "output_type": "display_data"
    },
    {
     "data": {
      "text/plain": [
       "<Figure size 1440x720 with 0 Axes>"
      ]
     },
     "metadata": {},
     "output_type": "display_data"
    },
    {
     "data": {
      "text/plain": [
       "<Figure size 1440x720 with 0 Axes>"
      ]
     },
     "metadata": {},
     "output_type": "display_data"
    },
    {
     "data": {
      "text/plain": [
       "<Figure size 1440x720 with 0 Axes>"
      ]
     },
     "metadata": {},
     "output_type": "display_data"
    },
    {
     "data": {
      "text/plain": [
       "<Figure size 1440x720 with 0 Axes>"
      ]
     },
     "metadata": {},
     "output_type": "display_data"
    },
    {
     "data": {
      "text/plain": [
       "<Figure size 1440x720 with 0 Axes>"
      ]
     },
     "metadata": {},
     "output_type": "display_data"
    },
    {
     "data": {
      "text/plain": [
       "<Figure size 1440x720 with 0 Axes>"
      ]
     },
     "metadata": {},
     "output_type": "display_data"
    },
    {
     "data": {
      "text/plain": [
       "<Figure size 1440x720 with 0 Axes>"
      ]
     },
     "metadata": {},
     "output_type": "display_data"
    },
    {
     "data": {
      "text/plain": [
       "<Figure size 1440x720 with 0 Axes>"
      ]
     },
     "metadata": {},
     "output_type": "display_data"
    },
    {
     "data": {
      "text/plain": [
       "<Figure size 1440x720 with 0 Axes>"
      ]
     },
     "metadata": {},
     "output_type": "display_data"
    },
    {
     "data": {
      "text/plain": [
       "<Figure size 1440x720 with 0 Axes>"
      ]
     },
     "metadata": {},
     "output_type": "display_data"
    },
    {
     "data": {
      "text/plain": [
       "<Figure size 1440x720 with 0 Axes>"
      ]
     },
     "metadata": {},
     "output_type": "display_data"
    },
    {
     "data": {
      "text/plain": [
       "<Figure size 1440x720 with 0 Axes>"
      ]
     },
     "metadata": {},
     "output_type": "display_data"
    },
    {
     "data": {
      "text/plain": [
       "<Figure size 1440x720 with 0 Axes>"
      ]
     },
     "metadata": {},
     "output_type": "display_data"
    },
    {
     "data": {
      "text/plain": [
       "<Figure size 1440x720 with 0 Axes>"
      ]
     },
     "metadata": {},
     "output_type": "display_data"
    },
    {
     "data": {
      "text/plain": [
       "<Figure size 1440x720 with 0 Axes>"
      ]
     },
     "metadata": {},
     "output_type": "display_data"
    },
    {
     "data": {
      "text/plain": [
       "<Figure size 1440x720 with 0 Axes>"
      ]
     },
     "metadata": {},
     "output_type": "display_data"
    },
    {
     "data": {
      "text/plain": [
       "<Figure size 1440x720 with 0 Axes>"
      ]
     },
     "metadata": {},
     "output_type": "display_data"
    },
    {
     "data": {
      "text/plain": [
       "<Figure size 1440x720 with 0 Axes>"
      ]
     },
     "metadata": {},
     "output_type": "display_data"
    },
    {
     "data": {
      "text/plain": [
       "<Figure size 1440x720 with 0 Axes>"
      ]
     },
     "metadata": {},
     "output_type": "display_data"
    },
    {
     "data": {
      "text/plain": [
       "<Figure size 1440x720 with 0 Axes>"
      ]
     },
     "metadata": {},
     "output_type": "display_data"
    },
    {
     "data": {
      "text/plain": [
       "<Figure size 1440x720 with 0 Axes>"
      ]
     },
     "metadata": {},
     "output_type": "display_data"
    },
    {
     "data": {
      "text/plain": [
       "<Figure size 1440x720 with 0 Axes>"
      ]
     },
     "metadata": {},
     "output_type": "display_data"
    },
    {
     "data": {
      "text/plain": [
       "<Figure size 1440x720 with 0 Axes>"
      ]
     },
     "metadata": {},
     "output_type": "display_data"
    },
    {
     "data": {
      "text/plain": [
       "<Figure size 1440x720 with 0 Axes>"
      ]
     },
     "metadata": {},
     "output_type": "display_data"
    },
    {
     "data": {
      "text/plain": [
       "<Figure size 1440x720 with 0 Axes>"
      ]
     },
     "metadata": {},
     "output_type": "display_data"
    },
    {
     "data": {
      "text/plain": [
       "<Figure size 1440x720 with 0 Axes>"
      ]
     },
     "metadata": {},
     "output_type": "display_data"
    },
    {
     "data": {
      "text/plain": [
       "<Figure size 1440x720 with 0 Axes>"
      ]
     },
     "metadata": {},
     "output_type": "display_data"
    },
    {
     "data": {
      "text/plain": [
       "<Figure size 1440x720 with 0 Axes>"
      ]
     },
     "metadata": {},
     "output_type": "display_data"
    },
    {
     "data": {
      "text/plain": [
       "<Figure size 1440x720 with 0 Axes>"
      ]
     },
     "metadata": {},
     "output_type": "display_data"
    },
    {
     "data": {
      "image/png": "[encoded data removed]",
      "text/plain": [
       "<Figure size 1440x720 with 5 Axes>"
      ]
     },
     "metadata": {},
     "output_type": "display_data"
    },
    {
     "data": {
      "text/plain": [
       "<Figure size 1440x720 with 0 Axes>"
      ]
     },
     "metadata": {},
     "output_type": "display_data"
    },
    {
     "data": {
      "text/plain": [
       "<Figure size 1440x720 with 0 Axes>"
      ]
     },
     "metadata": {},
     "output_type": "display_data"
    },
    {
     "data": {
      "text/plain": [
       "<Figure size 1440x720 with 0 Axes>"
      ]
     },
     "metadata": {},
     "output_type": "display_data"
    },
    {
     "data": {
      "text/plain": [
       "<Figure size 1440x720 with 0 Axes>"
      ]
     },
     "metadata": {},
     "output_type": "display_data"
    },
    {
     "data": {
      "text/plain": [
       "<Figure size 1440x720 with 0 Axes>"
      ]
     },
     "metadata": {},
     "output_type": "display_data"
    },
    {
     "data": {
      "text/plain": [
       "<Figure size 1440x720 with 0 Axes>"
      ]
     },
     "metadata": {},
     "output_type": "display_data"
    },
    {
     "data": {
      "text/plain": [
       "<Figure size 1440x720 with 0 Axes>"
      ]
     },
     "metadata": {},
     "output_type": "display_data"
    },
    {
     "data": {
      "text/plain": [
       "<Figure size 1440x720 with 0 Axes>"
      ]
     },
     "metadata": {},
     "output_type": "display_data"
    },
    {
     "data": {
      "text/plain": [
       "<Figure size 1440x720 with 0 Axes>"
      ]
     },
     "metadata": {},
     "output_type": "display_data"
    },
    {
     "data": {
      "text/plain": [
       "<Figure size 1440x720 with 0 Axes>"
      ]
     },
     "metadata": {},
     "output_type": "display_data"
    },
    {
     "data": {
      "text/plain": [
       "<Figure size 1440x720 with 0 Axes>"
      ]
     },
     "metadata": {},
     "output_type": "display_data"
    },
    {
     "data": {
      "text/plain": [
       "<Figure size 1440x720 with 0 Axes>"
      ]
     },
     "metadata": {},
     "output_type": "display_data"
    },
    {
     "data": {
      "text/plain": [
       "<Figure size 1440x720 with 0 Axes>"
      ]
     },
     "metadata": {},
     "output_type": "display_data"
    },
    {
     "data": {
      "text/plain": [
       "<Figure size 1440x720 with 0 Axes>"
      ]
     },
     "metadata": {},
     "output_type": "display_data"
    },
    {
     "data": {
      "text/plain": [
       "<Figure size 1440x720 with 0 Axes>"
      ]
     },
     "metadata": {},
     "output_type": "display_data"
    },
    {
     "data": {
      "text/plain": [
       "<Figure size 1440x720 with 0 Axes>"
      ]
     },
     "metadata": {},
     "output_type": "display_data"
    },
    {
     "data": {
      "text/plain": [
       "<Figure size 1440x720 with 0 Axes>"
      ]
     },
     "metadata": {},
     "output_type": "display_data"
    },
    {
     "data": {
      "text/plain": [
       "<Figure size 1440x720 with 0 Axes>"
      ]
     },
     "metadata": {},
     "output_type": "display_data"
    },
    {
     "data": {
      "text/plain": [
       "<Figure size 1440x720 with 0 Axes>"
      ]
     },
     "metadata": {},
     "output_type": "display_data"
    },
    {
     "data": {
      "text/plain": [
       "<Figure size 1440x720 with 0 Axes>"
      ]
     },
     "metadata": {},
     "output_type": "display_data"
    },
    {
     "data": {
      "text/plain": [
       "<Figure size 1440x720 with 0 Axes>"
      ]
     },
     "metadata": {},
     "output_type": "display_data"
    },
    {
     "data": {
      "text/plain": [
       "<Figure size 1440x720 with 0 Axes>"
      ]
     },
     "metadata": {},
     "output_type": "display_data"
    },
    {
     "data": {
      "text/plain": [
       "<Figure size 1440x720 with 0 Axes>"
      ]
     },
     "metadata": {},
     "output_type": "display_data"
    },
    {
     "data": {
      "text/plain": [
       "<Figure size 1440x720 with 0 Axes>"
      ]
     },
     "metadata": {},
     "output_type": "display_data"
    },
    {
     "data": {
      "text/plain": [
       "<Figure size 1440x720 with 0 Axes>"
      ]
     },
     "metadata": {},
     "output_type": "display_data"
    },
    {
     "data": {
      "text/plain": [
       "<Figure size 1440x720 with 0 Axes>"
      ]
     },
     "metadata": {},
     "output_type": "display_data"
    },
    {
     "data": {
      "text/plain": [
       "<Figure size 1440x720 with 0 Axes>"
      ]
     },
     "metadata": {},
     "output_type": "display_data"
    },
    {
     "data": {
      "text/plain": [
       "<Figure size 1440x720 with 0 Axes>"
      ]
     },
     "metadata": {},
     "output_type": "display_data"
    },
    {
     "data": {
      "text/plain": [
       "<Figure size 1440x720 with 0 Axes>"
      ]
     },
     "metadata": {},
     "output_type": "display_data"
    },
    {
     "data": {
      "text/plain": [
       "<Figure size 1440x720 with 0 Axes>"
      ]
     },
     "metadata": {},
     "output_type": "display_data"
    },
    {
     "data": {
      "text/plain": [
       "<Figure size 1440x720 with 0 Axes>"
      ]
     },
     "metadata": {},
     "output_type": "display_data"
    },
    {
     "data": {
      "text/plain": [
       "<Figure size 1440x720 with 0 Axes>"
      ]
     },
     "metadata": {},
     "output_type": "display_data"
    }
   ],
   "source": [
    "with tf.Session() as sess:\n",
    "\n",
    "    saver = tf.train.Saver()\n",
    "#     filename = tf.train.latest_checkpoint(\"./natural_model/\")\n",
    "    filename = tf.train.latest_checkpoint(\"./robust_model_100/\")\n",
    "    print(\"Latest training checkpoint is \", filename)\n",
    "    if filename != None:\n",
    "        saver.restore(sess, filename)\n",
    "    else:\n",
    "        print(\"No checkpoint found, exit.\")\n",
    "        exit()\n",
    "\n",
    "    # Accuracy = 0\n",
    "    # num = 10\n",
    "    # batch_size = math.ceil(X_test.shape[0] / num)\n",
    "    test_gen = next_batch(X_test, y_test, 1, True)\n",
    "\n",
    "    for i in range(200):\n",
    "        plt.figure(figsize=(20,10))\n",
    "        # Run testing on each batch\n",
    "        images, labels = next(test_gen)\n",
    "        if np.argmax(labels) != 14.:\n",
    "            continue\n",
    "        adv_images = attack(sess, images, labels)\n",
    "        blr_images = blur(images, 10)\n",
    "        ocl_images = ocul(images, 5)\n",
    "        rain_images = rain(images, 20)\n",
    "        # Perform gradient update (i.e. training step) on current batch\n",
    "        # acc = sess.run(model.accuracy, feed_dict={x: images, y: labels, keep_prob: 1})\n",
    "        # adv_acc = sess.run(model.accuracy, feed_dict={x: adv_images, y: labels, keep_prob: 1})\n",
    "\n",
    "        idx = sess.run(model.predictions, feed_dict={x: images, y: labels, keep_prob: 1})\n",
    "\n",
    "        adv_idx = sess.run(model.predictions, feed_dict={x: adv_images, y: labels, keep_prob: 1})\n",
    "#         print(\"Original Label is:\", label_map[np.argmax(labels[0])])\n",
    "        \n",
    "        gradients = sess.run(model.vis, feed_dict={x: images, y: labels, keep_prob: 1})\n",
    "\n",
    "        plt.subplot(1,5,1)\n",
    "        images = images.astype(np.uint8)\n",
    "        plt.imshow(images.reshape((32, 32, 3)))\n",
    "        plt.title(label_map[idx[0]])\n",
    "        \n",
    "        plt.subplot(1,5,2)\n",
    "        adv_images = adv_images.astype(np.uint8)\n",
    "        plt.imshow(adv_images.reshape((32, 32, 3)))\n",
    "        plt.title(label_map[adv_idx[0]])\n",
    "        \n",
    "        plt.subplot(1,5,3)\n",
    "        blr_images = blr_images.astype(np.uint8)\n",
    "        plt.imshow(blr_images.reshape((32, 32, 3)))\n",
    "        plt.title(label_map[adv_idx[0]])\n",
    "        \n",
    "        plt.subplot(1,5,4)\n",
    "        ocl_images = ocl_images.astype(np.uint8)\n",
    "        plt.imshow(ocl_images.reshape((32, 32, 3)))\n",
    "        plt.title(label_map[adv_idx[0]])\n",
    "        \n",
    "        plt.subplot(1,5,5)\n",
    "        gradients = gradients * 1000\n",
    "        gradients = np.clip(gradients, 0., 1.)*255\n",
    "        gradients = gradients.astype(np.uint8)\n",
    "#         print(gradients)\n",
    "        plt.imshow(gradients.reshape((32, 32, 3)))\n",
    "        plt.title(\"Gradients\")\n",
    "#         plt.show()\n",
    "        # \t\tprint(label_map[idx[0]], label_map[adv_idx[0]])"
   ]
  },
  {
   "cell_type": "code",
   "execution_count": null,
   "metadata": {},
   "outputs": [],
   "source": []
  }
 ],
 "metadata": {
  "kernelspec": {
   "display_name": "Python 3",
   "language": "python",
   "name": "python3"
  },
  "language_info": {
   "codemirror_mode": {
    "name": "ipython",
    "version": 3
   },
   "file_extension": ".py",
   "mimetype": "text/x-python",
   "name": "python",
   "nbconvert_exporter": "python",
   "pygments_lexer": "ipython3",
   "version": "3.5.2"
  }
 },
 "nbformat": 4,
 "nbformat_minor": 2
}
